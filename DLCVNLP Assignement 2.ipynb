{
  "nbformat": 4,
  "nbformat_minor": 0,
  "metadata": {
    "colab": {
      "name": "Untitled2.ipynb",
      "provenance": []
    },
    "kernelspec": {
      "name": "python3",
      "display_name": "Python 3"
    }
  },
  "cells": [
    {
      "cell_type": "markdown",
      "metadata": {
        "id": "CWHZOzBDk9GC",
        "colab_type": "text"
      },
      "source": [
        "## **Ineuron DLCVNLP Assignment 2**"
      ]
    },
    {
      "cell_type": "markdown",
      "metadata": {
        "id": "1XB8Kq29kvKV",
        "colab_type": "text"
      },
      "source": [
        "1. Create the below pattern using nested for loop in Python."
      ]
    },
    {
      "cell_type": "code",
      "metadata": {
        "id": "qIYUav7_j9Jy",
        "colab_type": "code",
        "colab": {
          "base_uri": "https://localhost:8080/",
          "height": 202
        },
        "outputId": "9c639f3a-a025-4d5e-f096-5f32001d0e0d"
      },
      "source": [
        "n = int(input())\n",
        "for i in range(n+1):\n",
        "    for j in range(i):\n",
        "        print(\"*\",end=' ')\n",
        "    print('')\n",
        "n-=1\n",
        "for i in range(n):\n",
        "    for j in range(n-i):\n",
        "        print(\"*\", end=' ')\n",
        "    print('')"
      ],
      "execution_count": 6,
      "outputs": [
        {
          "output_type": "stream",
          "text": [
            "5\n",
            "\n",
            "* \n",
            "* * \n",
            "* * * \n",
            "* * * * \n",
            "* * * * * \n",
            "* * * * \n",
            "* * * \n",
            "* * \n",
            "* \n"
          ],
          "name": "stdout"
        }
      ]
    },
    {
      "cell_type": "markdown",
      "metadata": {
        "id": "4NtzieqHlLQ8",
        "colab_type": "text"
      },
      "source": [
        "2. Write a Python program to reverse a word after accepting the input from the user."
      ]
    },
    {
      "cell_type": "code",
      "metadata": {
        "id": "FV0EGEN9lN1-",
        "colab_type": "code",
        "colab": {
          "base_uri": "https://localhost:8080/",
          "height": 50
        },
        "outputId": "ccd67684-2767-4d17-9780-14227239055f"
      },
      "source": [
        "print(input()[::-1])"
      ],
      "execution_count": 9,
      "outputs": [
        {
          "output_type": "stream",
          "text": [
            "Sanjay\n",
            "yajnaS\n"
          ],
          "name": "stdout"
        }
      ]
    }
  ]
}